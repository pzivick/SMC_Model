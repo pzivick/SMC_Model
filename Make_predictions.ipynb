{
 "cells": [
  {
   "cell_type": "markdown",
   "id": "4b0705c9",
   "metadata": {},
   "source": [
    "## Introduction\n",
    "\n",
    "Something."
   ]
  },
  {
   "cell_type": "code",
   "execution_count": 6,
   "id": "ac0c4df9",
   "metadata": {},
   "outputs": [],
   "source": [
    "import numpy as np\n",
    "import json\n",
    "from astropy.table import Table, hstack, vstack, unique\n",
    "from astropy.io import fits"
   ]
  },
  {
   "cell_type": "markdown",
   "id": "e249ec5a",
   "metadata": {},
   "source": [
    "### Analysis Setup"
   ]
  },
  {
   "cell_type": "code",
   "execution_count": 39,
   "id": "5bd6b1bb",
   "metadata": {},
   "outputs": [],
   "source": [
    "# Load in the input data that contains the positions to be tested\n",
    "hdu1 = fits.open(\"Data/magstream_youngstars_gaiaedr32mass.060322.fits\")\n",
    "data = hdu1[1].data\n",
    "\n",
    "# Create an array containing a set of assumed distances for the test data\n",
    "dists = np.full((len(data),), 50.0)\n",
    "\n",
    "# Create a new table that can be easily passed through for analysis\n",
    "inputs = Table([data['RA      '], data['DEC     '], dists], names=['RA', 'Dec', 'Dist'])"
   ]
  },
  {
   "cell_type": "markdown",
   "id": "935db667",
   "metadata": {},
   "source": [
    "### Model Setup"
   ]
  },
  {
   "cell_type": "code",
   "execution_count": 2,
   "id": "169d2cf2",
   "metadata": {},
   "outputs": [
    {
     "name": "stdout",
     "output_type": "stream",
     "text": [
      "{'RA_0': 13.038, 'Dec_0': -73.094, 'm_M': 18.91, 'pmRA_0': 0.672, 'pmDec_0': -1.201, 'vsys_0': 148.0, 'incl': 40.0, 'theta': -100.0, 'Vrot': 10.0, 'rad0': 1.0, 'rotdir': -1.0, 'relvel0': [0.43452, -0.20803, -36.61517], 'tidalScale': 10.0, 'tidalType': 'Linear'}\n"
     ]
    }
   ],
   "source": [
    "# Opening JSON file\n",
    "f = open('default_model.json')\n",
    "  \n",
    "# returns JSON object as \n",
    "# a dictionary\n",
    "model = json.load(f)\n",
    "  \n",
    "# Iterating through the json\n",
    "# list\n",
    "print(model)\n",
    "  \n",
    "# Closing file\n",
    "f.close()"
   ]
  },
  {
   "cell_type": "markdown",
   "id": "1c81ac32",
   "metadata": {},
   "source": [
    "### Begin the Analysis"
   ]
  },
  {
   "cell_type": "code",
   "execution_count": null,
   "id": "239d480e",
   "metadata": {},
   "outputs": [],
   "source": []
  }
 ],
 "metadata": {
  "kernelspec": {
   "display_name": "Python 3 (ipykernel)",
   "language": "python",
   "name": "python3"
  },
  "language_info": {
   "codemirror_mode": {
    "name": "ipython",
    "version": 3
   },
   "file_extension": ".py",
   "mimetype": "text/x-python",
   "name": "python",
   "nbconvert_exporter": "python",
   "pygments_lexer": "ipython3",
   "version": "3.9.7"
  }
 },
 "nbformat": 4,
 "nbformat_minor": 5
}
